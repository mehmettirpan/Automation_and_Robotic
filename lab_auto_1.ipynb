{
  "cells": [
    {
      "cell_type": "markdown",
      "metadata": {
        "id": "so_KKXn2eO8r"
      },
      "source": [
        "# Welcome to the automation lab!\n",
        "\n",
        "The lab is divided into several sections, each focusing on a different aspect of factory control.\n",
        "\n",
        "## Lab Topics\n",
        "\n",
        "**Lab 1: Introduction to Python and PuLP**\n",
        "- Getting familiar with Python environment\n",
        "- Installing and configuring PuLP library\n",
        "- Solving first simple linear programming problem\n",
        "\n",
        "**Lab 2: Advanced Linear Programming and Sensitivity Analysis**\n",
        "- Defining more complex linear programming tasks\n",
        "- Learning different constraint types\n",
        "- Sensitivity analysis\n",
        "\n",
        "**Lab 3: Dynamic Programming - Implementation in Python**\n",
        "- Understanding dynamic programming concepts\n",
        "- Implementing simple DP tasks\n",
        "- Result interpretation in production context\n",
        "\n",
        "**Lab 4: Introduction to Non-linear Optimization**\n",
        "- Understanding differences between linear and non-linear optimization\n",
        "- Getting familiar with scipy.optimize\n",
        "- Solving example non-linear problems\n",
        "\n",
        "**Lab 5: Scheduling with PuLP (Job Shop/Flow Shop Example)**\n",
        "- Modeling scheduling problems as integer programming\n",
        "- Implementing simple flow shop or job shop cases\n",
        "- Understanding computational complexity\n",
        "\n",
        "**Lab 6: Network Methods - CPM/PERT in Python**\n",
        "- Learning critical path method\n",
        "- Implementing algorithms for time calculations\n",
        "- Getting familiar with PERT method\n",
        "\n",
        "**Lab 7: Machine Learning Basics in Python - Regression and Classification**\n",
        "- Learning scikit-learn basics\n",
        "- Data loading, splitting, and model training\n",
        "- Result interpretation and model quality assessment\n",
        "\n",
        "**Lab 8: Methods Integration - Forecasting + Optimization in PuLP**\n",
        "- Showing how ML can provide input data for optimization models\n",
        "- Implementing forecasting and optimization pipeline\n",
        "- Discussing practical aspects of ML and optimization integration\n"
      ]
    },
    {
      "cell_type": "code",
      "execution_count": 14,
      "metadata": {
        "colab": {
          "base_uri": "https://localhost:8080/"
        },
        "id": "Hym0K1QMeO8s",
        "outputId": "6b8e2c44-1e0b-4195-a702-8f029ac59ade"
      },
      "outputs": [
        {
          "output_type": "stream",
          "name": "stdout",
          "text": [
            "Sum: 4\n",
            "Multiplication: 15\n",
            "x + y = 30\n",
            "Item: 1\n",
            "Item: 2\n",
            "Item: 3\n",
            "Item: 4\n",
            "Item: 5\n",
            "x is less than y\n",
            "Hello, Alice!\n",
            "0\n",
            "1\n",
            "2\n",
            "3\n",
            "4\n",
            "[0, 1, 4, 9, 16, 25, 36, 49, 64, 81]\n",
            "[2, 4, 6, 8, 10]\n",
            "Hello, Alice!\n",
            "Hello, Bob!\n",
            "Hello, Charlie!\n"
          ]
        }
      ],
      "source": [
        "# Basic Python Refresher\n",
        "# Cell 1: Python Basics\n",
        "\n",
        "# Basic arithmetic\n",
        "print(\"Sum:\", 2 + 2)\n",
        "print(\"Multiplication:\", 3 * 5)\n",
        "\n",
        "# Variables\n",
        "x = 10\n",
        "y = 20\n",
        "print(\"x + y =\", x + y)\n",
        "\n",
        "# Lists and loops\n",
        "my_list = [1, 2, 3, 4, 5]\n",
        "for item in my_list:\n",
        "    print(\"Item:\", item)\n",
        "\n",
        "# Conditionals\n",
        "if x < y:\n",
        "    print(\"x is less than y\")\n",
        "else:\n",
        "    print(\"x is greater or equal to y\")\n",
        "\n",
        "\n",
        "\n",
        "# Functions\n",
        "def greet(name):\n",
        "    return f\"Hello, {name}!\"\n",
        "\n",
        "print(greet(\"Alice\"))\n",
        "\n",
        "# Loops\n",
        "for i in range(5):\n",
        "    print(i)\n",
        "\n",
        "# List comprehensions\n",
        "squares = [x**2 for x in range(10)]\n",
        "print(squares)\n",
        "\n",
        "#Filtering\n",
        "numbers = [1, 2, 3, 4, 5, 6, 7, 8, 9, 10]\n",
        "even_numbers = [x for x in numbers if x % 2 == 0]\n",
        "print(even_numbers)\n",
        "\n",
        "\n",
        "names = [\"Alice\", \"Bob\", \"Charlie\"]\n",
        "for name in names:\n",
        "    print(f\"Hello, {name}!\")\n",
        "\n",
        "# Cell 2: Data Structures\n",
        "\n"
      ]
    },
    {
      "cell_type": "code",
      "execution_count": 15,
      "metadata": {
        "colab": {
          "base_uri": "https://localhost:8080/"
        },
        "id": "Wz9AwEh5eO8t",
        "outputId": "6cce327c-a547-423a-effd-ae595be7ce47"
      },
      "outputs": [
        {
          "output_type": "stream",
          "name": "stdout",
          "text": [
            "0\n",
            "1\n",
            "2\n",
            "3\n",
            "4\n",
            "5\n",
            "6\n",
            "7\n",
            "8\n",
            "9\n",
            "10\n",
            "11\n",
            "12\n",
            "13\n",
            "14\n",
            "15\n",
            "16\n",
            "17\n",
            "18\n",
            "19\n",
            "20\n",
            "21\n",
            "22\n",
            "23\n",
            "24\n",
            "25\n",
            "26\n",
            "27\n",
            "28\n",
            "29\n",
            "30\n",
            "31\n",
            "32\n",
            "33\n",
            "34\n",
            "35\n",
            "36\n",
            "37\n",
            "38\n",
            "39\n",
            "40\n",
            "41\n",
            "42\n",
            "43\n",
            "44\n",
            "45\n",
            "46\n",
            "47\n",
            "48\n",
            "49\n",
            "50\n",
            "51\n",
            "52\n",
            "53\n",
            "54\n",
            "55\n",
            "56\n",
            "57\n",
            "58\n",
            "59\n",
            "60\n",
            "61\n",
            "62\n",
            "63\n",
            "64\n",
            "65\n",
            "66\n",
            "67\n",
            "68\n",
            "69\n",
            "70\n",
            "71\n",
            "72\n",
            "73\n",
            "74\n",
            "75\n",
            "76\n",
            "77\n",
            "78\n",
            "79\n",
            "80\n",
            "81\n",
            "82\n",
            "83\n",
            "84\n",
            "85\n",
            "86\n",
            "87\n",
            "88\n",
            "89\n",
            "90\n",
            "91\n",
            "92\n",
            "93\n",
            "94\n",
            "95\n",
            "96\n",
            "97\n",
            "98\n",
            "99\n"
          ]
        }
      ],
      "source": [
        "# Excercise 1\n",
        "# print the first 100 numbers\n",
        "for i in range(100):\n",
        "    print(i)"
      ]
    },
    {
      "cell_type": "code",
      "execution_count": 16,
      "metadata": {
        "colab": {
          "base_uri": "https://localhost:8080/"
        },
        "id": "m7EsQQZLeO8t",
        "outputId": "869b0e4f-11f1-46c0-a647-5fcd935e1af3"
      },
      "outputs": [
        {
          "output_type": "stream",
          "name": "stdout",
          "text": [
            "List: [1, 2, 3, 4, 5]\n",
            "Person: {'name': 'John', 'age': 30, 'city': 'New York'}\n",
            "John\n",
            "Set: {1, 2, 3, 4, 5}\n",
            "Tuple: (1, 2, 3, 4, 5)\n",
            "String: Hello, World!\n",
            "Hello, Charlie!\n",
            "last letter of the name is e\n"
          ]
        }
      ],
      "source": [
        "# Data structures\n",
        "\n",
        "# Lists\n",
        "my_list = [1, 2, 3, 4, 5]\n",
        "print(\"List:\", my_list)\n",
        "\n",
        "\n",
        "# Dictionaries\n",
        "person = {\n",
        "    \"name\": \"John\",\n",
        "    \"age\": 30,\n",
        "    \"city\": \"New York\"\n",
        "}\n",
        "print(\"Person:\", person)\n",
        "print(person[\"name\"])\n",
        "# Sets\n",
        "my_set = {1, 2, 3, 4, 5}\n",
        "print(\"Set:\", my_set)\n",
        "\n",
        "# Tuples\n",
        "my_tuple = (1, 2, 3, 4, 5)\n",
        "print(\"Tuple:\", my_tuple)\n",
        "\n",
        "# Strings\n",
        "my_string = \"Hello, World!\"\n",
        "print(\"String:\", my_string)\n",
        "\n",
        "print(f\"Hello, {name}!\") # why?\n",
        "\n",
        "print(f\"last letter of the name is {name[-1]}\")\n",
        "\n"
      ]
    },
    {
      "cell_type": "code",
      "execution_count": 18,
      "metadata": {
        "colab": {
          "base_uri": "https://localhost:8080/"
        },
        "id": "9eBblgBbeO8u",
        "outputId": "dd842559-75ff-46be-c80a-a713e2840a17"
      },
      "outputs": [
        {
          "output_type": "stream",
          "name": "stdout",
          "text": [
            "The person's name is John and the name has 4 letters\n"
          ]
        }
      ],
      "source": [
        "#Excercise 2\n",
        "# make a function that takes persons name and returns the string containing the the formula \"The person's name is {name}\n",
        "# and the name has x letters, then print the result\"\n",
        "def print_name(name):\n",
        "    print(f\"The person's name is {name} and the name has {len(name)} letters\")\n",
        "\n",
        "print_name(\"John\")"
      ]
    },
    {
      "cell_type": "code",
      "execution_count": 19,
      "metadata": {
        "colab": {
          "base_uri": "https://localhost:8080/"
        },
        "id": "CWveksdBeO8u",
        "outputId": "a718f237-457d-499f-a184-024b2cedff9a"
      },
      "outputs": [
        {
          "output_type": "stream",
          "name": "stdout",
          "text": [
            "Hello, my name is John and I am 30 years old.\n",
            "Hello, my name is John and I am 31 years old.\n"
          ]
        }
      ],
      "source": [
        "# Classes\n",
        "\n",
        "class Person:\n",
        "    def __init__(self, name, age):\n",
        "        self.name = name\n",
        "        self.age = age\n",
        "\n",
        "    def greet(self):\n",
        "        return f\"Hello, my name is {self.name} and I am {self.age} years old.\"\n",
        "\n",
        "\n",
        "new_person = Person(\"John\", 30)\n",
        "print(new_person.greet())\n",
        "\n",
        "new_person.age = 31\n",
        "print(new_person.greet())\n",
        "\n",
        "# Cell 3: File Operations\n",
        "\n"
      ]
    },
    {
      "cell_type": "code",
      "execution_count": 20,
      "metadata": {
        "colab": {
          "base_uri": "https://localhost:8080/"
        },
        "id": "y85bL1JieO8u",
        "outputId": "67ec311f-cdc6-4974-c719-e566693d079a"
      },
      "outputs": [
        {
          "output_type": "stream",
          "name": "stdout",
          "text": [
            "Download complete!\n"
          ]
        }
      ],
      "source": [
        "#loading from internet:\n",
        "import os\n",
        "\n",
        "# Create 'data' folder\n",
        "os.makedirs(\"data\", exist_ok=True)\n",
        "\n",
        "# Define the raw file URLs from GitHub\n",
        "file_urls = {\n",
        "    \"email.csv\": \"https://raw.githubusercontent.com/AdoHaha/automation_robotics_lab/master/data/email.csv\",\n",
        "    \"example.txt\": \"https://raw.githubusercontent.com/AdoHaha/automation_robotics_lab/master/data/example.txt\"\n",
        "}\n",
        "\n",
        "# Download the files\n",
        "for file_name, url in file_urls.items():\n",
        "    os.system(f\"wget -O data/{file_name} {url}\")\n",
        "\n",
        "print(\"Download complete!\")\n"
      ]
    },
    {
      "cell_type": "code",
      "execution_count": 30,
      "metadata": {
        "colab": {
          "base_uri": "https://localhost:8080/"
        },
        "id": "EWSXBa1DeO8u",
        "outputId": "b0ea8490-0230-46a7-864c-2fe93487c27b"
      },
      "outputs": [
        {
          "output_type": "stream",
          "name": "stdout",
          "text": [
            "         Login email  Identifier First name Last name  Mark\n",
            "0  laura@example.com        2070      Laura      Grey     3\n",
            "1  craig@example.com        4081      Craig   Johnson     4\n",
            "2   mary@example.com        9346       Mary   Jenkins     2\n",
            "3  jamie@example.com        5079      Jamie     Smith     2\n",
            "         Login email  Identifier First name Last name  Mark   pass\n",
            "0  laura@example.com        2070      Laura      Grey     3   True\n",
            "1  craig@example.com        4081      Craig   Johnson     4   True\n",
            "2   mary@example.com        9346       Mary   Jenkins     2  False\n",
            "3  jamie@example.com        5079      Jamie     Smith     2  False\n",
            "Alice has a number 123-456-7890\n",
            "None\n",
            "Bob has a number 987-654-3210\n",
            "None\n"
          ]
        }
      ],
      "source": [
        "# Using various packages\n",
        "\n",
        "import pandas as pd\n",
        "\n",
        "# Reading a CSV file\n",
        "df = pd.read_csv(\"data/email.csv\" , sep=\";\")\n",
        "print(df.head())\n",
        "\n",
        "df.describe()\n",
        "\n",
        "# Excercise 3:\n",
        "# make a telephone book that takes a name and telephone number. When asked about the number person.what_is_your_number() it returns with printintg \"{names} has a number {number}\"\n",
        "df[\"pass\"] = df[\"Mark\"] >= 3\n",
        "print(df)\n",
        "\n",
        "class TelephoneBook:\n",
        "    def __init__(self):\n",
        "        self.entries = {}  # Using a dictionary to store entries\n",
        "\n",
        "    def add_entry(self, name, number):\n",
        "        self.entries[name] = number\n",
        "\n",
        "    def what_is_your_number(self, name):\n",
        "        if name in self.entries:\n",
        "            number = self.entries[name]\n",
        "            print(f\"{name} has a number {number}\")\n",
        "        else:\n",
        "            print(f\"{name} not found in the telephone book.\")\n",
        "\n",
        "# Example usage:\n",
        "my_phonebook = TelephoneBook()\n",
        "my_phonebook.add_entry(\"Alice\", \"123-456-7890\")\n",
        "my_phonebook.add_entry(\"Bob\", \"987-654-3210\")\n",
        "\n",
        "# my_phonebook\n",
        "print(my_phonebook.what_is_your_number(\"Alice\"))\n",
        "print(my_phonebook.what_is_your_number(\"Bob\"))"
      ]
    },
    {
      "cell_type": "code",
      "execution_count": 31,
      "metadata": {
        "colab": {
          "base_uri": "https://localhost:8080/",
          "height": 506
        },
        "id": "gryiy83AeO8u",
        "outputId": "263953df-ac38-4717-96ca-e468274ebecf"
      },
      "outputs": [
        {
          "output_type": "stream",
          "name": "stdout",
          "text": [
            "[1 2 3 4 5]\n",
            "[ 2  4  6  8 10]\n"
          ]
        },
        {
          "output_type": "display_data",
          "data": {
            "text/plain": [
              "<Figure size 640x480 with 1 Axes>"
            ],
            "image/png": "[encoded data removed]"
          },
          "metadata": {}
        }
      ],
      "source": [
        "\n",
        "import numpy as np\n",
        "\n",
        "# Creating a numpy array\n",
        "arr = np.array([1, 2, 3, 4, 5])\n",
        "print(arr)\n",
        "arr2 = arr * 2\n",
        "print(arr2)\n",
        "\n",
        "import matplotlib.pyplot as plt\n",
        "\n",
        "# Plotting a simple graph\n",
        "plt.plot([1, 2, 3, 4, 5], [1, 4, 9, 16, 25])\n",
        "plt.xlabel(\"X-axis\")\n",
        "plt.ylabel(\"Y-axis\")\n",
        "plt.title(\"Simple Graph\")\n",
        "plt.show()\n"
      ]
    },
    {
      "cell_type": "code",
      "execution_count": 32,
      "metadata": {
        "id": "MdvAYMdEeO8u"
      },
      "outputs": [],
      "source": [
        "#"
      ]
    },
    {
      "cell_type": "code",
      "execution_count": 36,
      "metadata": {
        "colab": {
          "base_uri": "https://localhost:8080/"
        },
        "id": "Pn13q8XueO8v",
        "outputId": "3aebc9f2-9a69-4772-8fd0-07f5048f6b4b"
      },
      "outputs": [
        {
          "output_type": "stream",
          "name": "stdout",
          "text": [
            "File content: Hello, \n",
            "how do you do?\n",
            "\n",
            "what is my name?\n",
            "\n",
            "55\n",
            "Data saved to name_numbers.txt\n",
            "{'Alice': 24, 'Bob': 49, 'Charlie': 71, 'David': 28, 'Eve': 96}\n"
          ]
        }
      ],
      "source": [
        "# File operations\n",
        "import random\n",
        "\n",
        "# Reading a file\n",
        "with open(\"data/example.txt\", \"r\") as file:\n",
        "    content = file.read()\n",
        "    print(\"File content:\", content)\n",
        "\n",
        "random_number = random.randint(1, 100)\n",
        "print(random_number)\n",
        "\n",
        "with open(\"data/example_saved.txt\", \"w\") as file:\n",
        "    file.write(str(random_number))\n",
        "\n",
        "# Excercise 4:\n",
        "# make a list of names, attach random number to each name and save it to a file\n",
        "\n",
        "names = [\"Alice\", \"Bob\", \"Charlie\", \"David\", \"Eve\"]\n",
        "name_number_dict = {}\n",
        "\n",
        "for name in names:\n",
        "    random_number = random.randint(1, 100)\n",
        "    name_number_dict[name] = random_number\n",
        "\n",
        "with open(\"data/name_numbers.txt\", \"w\") as file:\n",
        "    for name, number in name_number_dict.items():\n",
        "        file.write(f\"{name}: {number}\\n\")\n",
        "\n",
        "print(\"Data saved to name_numbers.txt\")\n",
        "print(name_number_dict)"
      ]
    },
    {
      "cell_type": "markdown",
      "metadata": {
        "id": "2jRk39J-eO8v"
      },
      "source": [
        "### More exercises:\n",
        "- https://coin-or.github.io/pulp/main/basic_python_coding.html\n",
        "- https://www.practicepython.org/\n",
        "- https://exercism.org/tracks/python/exercises\n",
        "- https://www.hackinscience.org/exercises/"
      ]
    },
    {
      "cell_type": "code",
      "execution_count": 37,
      "metadata": {
        "colab": {
          "base_uri": "https://localhost:8080/"
        },
        "id": "cWGVA_oIeO8v",
        "outputId": "4b525e55-3b1f-4f4e-fb2a-9f57122807da"
      },
      "outputs": [
        {
          "output_type": "stream",
          "name": "stdout",
          "text": [
            "Collecting pulp\n",
            "  Downloading pulp-3.1.1-py3-none-any.whl.metadata (1.3 kB)\n",
            "Downloading pulp-3.1.1-py3-none-any.whl (16.4 MB)\n",
            "\u001b[2K   \u001b[90m━━━━━━━━━━━━━━━━━━━━━━━━━━━━━━━━━━━━━━━━\u001b[0m \u001b[32m16.4/16.4 MB\u001b[0m \u001b[31m30.7 MB/s\u001b[0m eta \u001b[36m0:00:00\u001b[0m\n",
            "\u001b[?25hInstalling collected packages: pulp\n",
            "Successfully installed pulp-3.1.1\n"
          ]
        }
      ],
      "source": [
        "!pip install pulp"
      ]
    },
    {
      "cell_type": "code",
      "execution_count": 38,
      "metadata": {
        "colab": {
          "base_uri": "https://localhost:8080/"
        },
        "id": "i36FfFODeO8v",
        "outputId": "f72e0b7b-909a-4ab1-c6f6-0902e13c2e8c"
      },
      "outputs": [
        {
          "output_type": "stream",
          "name": "stdout",
          "text": [
            "Simple_Problem:\n",
            "MAXIMIZE\n",
            "1*x + 1*y + 0\n",
            "SUBJECT TO\n",
            "_C1: x - y = 0\n",
            "\n",
            "VARIABLES\n",
            "x <= 4 Continuous\n",
            "y <= 3 Continuous\n",
            "\n"
          ]
        }
      ],
      "source": [
        "# Basics of Pulp\n",
        "\n",
        "import pulp\n",
        "\n",
        "# Creating a problem\n",
        "prob = pulp.LpProblem(\"Simple_Problem\", pulp.LpMaximize) # we want to maximize the objective function\n",
        "\n",
        "# Variables\n",
        "x = pulp.LpVariable('x', lowBound=0, upBound=4) # x must be between 0 and 4\n",
        "y = pulp.LpVariable('y', lowBound=0, upBound=3) # y must be between 0 and 3\n",
        "\n",
        "# Objective function\n",
        "prob += x + y, \"Z\" # we want to maximize the sum of x and y\n",
        "\n",
        "# Constraints\n",
        "prob += x - y == 0 # they must be same\n",
        "print(prob)\n"
      ]
    },
    {
      "cell_type": "code",
      "execution_count": 39,
      "metadata": {
        "colab": {
          "base_uri": "https://localhost:8080/"
        },
        "id": "AivKeerteO8v",
        "outputId": "58a7ed6f-e4dc-4745-f01f-d41ff212ac79"
      },
      "outputs": [
        {
          "output_type": "stream",
          "name": "stdout",
          "text": [
            "x = 3.0\n",
            "y = 3.0\n"
          ]
        }
      ],
      "source": [
        "# Solving the problem\n",
        "prob.solve()\n",
        "\n",
        "# Printing the results\n",
        "print(\"x =\", x.value())\n",
        "print(\"y =\", y.value())\n"
      ]
    },
    {
      "cell_type": "markdown",
      "metadata": {
        "id": "N-6inCeoeO8v"
      },
      "source": [
        "# Exercise:\n",
        "\n",
        "1. Read the materials about pulp from the website https://coin-or.github.io/pulp/main/index.html and go through the blending problem: https://www.coin-or.org/PuLP/CaseStudies/a_blending_problem.html (rewrite it to your notebook).\n",
        "\n",
        "There are two versions of the solution. I suggest you start with the first one which provides step by step solution with comments. Put each part of the code in a separate cell.\n",
        "Only when you understand the first version, move to the second one which provides a more compact code beneficial for larger problems.\n",
        "\n",
        "2. In the blending problem, add a decision variable. Create a variable that will appear in the final product composition (i.e., the value of the variable will have a non-zero form)\n",
        "\n",
        "3. Add a constraint regarding vitamin B content\n",
        "\n",
        "Content:\n",
        "\n",
        "| Name       | content μg/100g   |\n",
        "|------------|-------------------|\n",
        "| chicken    | 0.3               |\n",
        "| beef       | 2.6               |\n",
        "| mutton     | 2.6               |\n",
        "| rice       | 0                 |\n",
        "| wheat bran | 0                 |\n",
        "| gel        | 0                 |\n",
        "| sardines   | 8.9               |\n",
        "\n",
        "A cat needs to eat a minimum of 0.24 μg per kilogram of body weight of vitamin B, so approximately\n",
        "0.8 μg daily.\n",
        "\n",
        "Try tu use the form presented at the end of the tutorial as this will be used in the next lab. Retun variables using the"
      ]
    },
    {
      "cell_type": "markdown",
      "metadata": {
        "id": "3jc4TZEEeO8v"
      },
      "source": []
    }
  ],
  "metadata": {
    "kernelspec": {
      "display_name": "base",
      "language": "python",
      "name": "python3"
    },
    "language_info": {
      "codemirror_mode": {
        "name": "ipython",
        "version": 3
      },
      "file_extension": ".py",
      "mimetype": "text/x-python",
      "name": "python",
      "nbconvert_exporter": "python",
      "pygments_lexer": "ipython3",
      "version": "3.7.3"
    },
    "colab": {
      "provenance": []
    }
  },
  "nbformat": 4,
  "nbformat_minor": 0
}