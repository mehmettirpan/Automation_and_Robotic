{
  "cells": [
    {
      "cell_type": "code",
      "execution_count": 3,
      "metadata": {
        "colab": {
          "base_uri": "https://localhost:8080/"
        },
        "id": "hphjISGVc6Cb",
        "outputId": "823635b0-689b-405e-b6bf-c170b23d3f4a"
      },
      "outputs": [
        {
          "output_type": "stream",
          "name": "stdout",
          "text": [
            "Collecting pulp\n",
            "  Downloading pulp-3.1.1-py3-none-any.whl.metadata (1.3 kB)\n",
            "Downloading pulp-3.1.1-py3-none-any.whl (16.4 MB)\n",
            "\u001b[2K   \u001b[90m━━━━━━━━━━━━━━━━━━━━━━━━━━━━━━━━━━━━━━━━\u001b[0m \u001b[32m16.4/16.4 MB\u001b[0m \u001b[31m89.4 MB/s\u001b[0m eta \u001b[36m0:00:00\u001b[0m\n",
            "\u001b[?25hInstalling collected packages: pulp\n",
            "Successfully installed pulp-3.1.1\n"
          ]
        }
      ],
      "source": [
        "!pip install pulp"
      ]
    },
    {
      "cell_type": "markdown",
      "metadata": {
        "id": "KkFRDqNGc6Cd"
      },
      "source": [
        "# Integer Programming\n",
        "\n",
        "Integer programming is a mathematical optimization technique used when some or all of the variables in a linear programming problem must take integer values. When all variables must be either 0 or 1 (binary), we call it Binary Integer Programming.\n",
        "\n",
        "## Common applications of Integer Programming:\n",
        "\n",
        "1. **Facility location problems** - deciding where to build facilities\n",
        "2. **Resource allocation** - assigning limited resources to tasks\n",
        "3. **Scheduling** - allocating time slots to activities\n",
        "4. **Transportation and logistics** - optimizing routes and shipments\n",
        "5. **Manufacturing** - production planning and inventory control\n",
        "6. **Financial planning** - portfolio optimization with discrete investments"
      ]
    },
    {
      "cell_type": "markdown",
      "metadata": {
        "id": "7LFFpfkOc6Ce"
      },
      "source": [
        "## Example 1: Facility Location Problem\n",
        "\n",
        "Our company already has factories in two cities (City A and City B) and is considering expanding them. We also want to build a warehouse (only one).\n",
        "\n",
        "Decision variables:\n",
        "- Build factory in City A? (x1): Added value: $9 million, capital required: $6 million\n",
        "- Build factory in City B? (x2): Added value: $5 million, capital required: $3 million\n",
        "- Build warehouse in City A? (x3): Added value: $6 million, capital required: $5 million\n",
        "- Build warehouse in City B? (x4): Added value: $4 million, capital required: $2 million\n",
        "\n",
        "Available capital: $10 million\n",
        "\n",
        "Additional constraint: A warehouse can only be built in a city if there is also a factory there.\n",
        "\n",
        "\n",
        "\n",
        "\n",
        "![image](https://github.com/AdoHaha/automation_robotics_lab/blob/master/lab3a_expl.png?raw=1)\n"
      ]
    },
    {
      "cell_type": "code",
      "execution_count": 4,
      "metadata": {
        "id": "hEm-B0blc6Ce"
      },
      "outputs": [],
      "source": [
        "    # Let's visualize the problem:\n",
        "    #\n",
        "    #                 City A                  City B\n",
        "    #                 ------                 ------\n",
        "    # Factory:     $9M value              $5M value\n",
        "    #              $6M cost               $3M cost\n",
        "    #                  |                      |\n",
        "    #                  v                      v\n",
        "    # Warehouse:   $6M value              $4M value\n",
        "    #              $5M cost               $2M cost\n",
        "    #\n",
        "    # Total capital available: $10M\n",
        "    # Must choose max 1 warehouse, and only where factory exists"
      ]
    },
    {
      "cell_type": "code",
      "execution_count": 5,
      "metadata": {
        "id": "Zmsqr0AOc6Cf"
      },
      "outputs": [],
      "source": [
        "import pulp\n",
        "from pulp import *\n",
        "\n",
        "# Create the model\n",
        "prob = LpProblem(\"Facility_Location_Problem\", LpMaximize)"
      ]
    },
    {
      "cell_type": "code",
      "execution_count": 6,
      "metadata": {
        "id": "r09TE_MPc6Cf"
      },
      "outputs": [],
      "source": [
        "# Decision variables (binary: 0 or 1)\n",
        "x1 = LpVariable(\"Factory_CityA\", cat=LpBinary)\n",
        "x2 = LpVariable(\"Factory_CityB\", cat=LpBinary)\n",
        "x3 = LpVariable(\"Warehouse_CityA\", cat=LpBinary)\n",
        "x4 = LpVariable(\"Warehouse_CityB\", cat=LpBinary)"
      ]
    },
    {
      "cell_type": "code",
      "execution_count": 7,
      "metadata": {
        "id": "MtkBzDMYc6Cf"
      },
      "outputs": [],
      "source": [
        "# Objective function: maximize total value\n",
        "prob += 9*x1 + 5*x2 + 6*x3 + 4*x4, \"Total_Added_Value\""
      ]
    },
    {
      "cell_type": "code",
      "execution_count": 8,
      "metadata": {
        "id": "hpkf7gwac6Cf"
      },
      "outputs": [],
      "source": [
        "# Constraints\n",
        "# 1. Capital constraint\n",
        "prob += 6*x1 + 3*x2 + 5*x3 + 2*x4 <= 10, \"Available_Capital\"\n",
        "\n",
        "# 2. Only one warehouse\n",
        "prob += x3 + x4 <= 1, \"Maximum_One_Warehouse\"\n",
        "\n",
        "# 3. Warehouse can only be built if factory exists in same city\n",
        "prob += x1 - x3 >= 0, \"CityA_Warehouse_Requires_Factory\"\n",
        "prob += x2 - x4 >= 0, \"CityB_Warehouse_Requires_Factory\""
      ]
    },
    {
      "cell_type": "code",
      "execution_count": 9,
      "metadata": {
        "id": "o8CI3S2dc6Cf"
      },
      "outputs": [],
      "source": [
        "# Helper function to print the solution\n",
        "def print_solution(p):\n",
        "    p.solve()\n",
        "    print(\"Status:\", LpStatus[p.status])\n",
        "    for v in p.variables():\n",
        "        print(v.name, \"=\", v.varValue)\n",
        "    print(\"Objective value =\", value(p.objective))"
      ]
    },
    {
      "cell_type": "code",
      "execution_count": 10,
      "metadata": {
        "colab": {
          "base_uri": "https://localhost:8080/"
        },
        "id": "H45gaWWVc6Cf",
        "outputId": "ee6f1d6b-9bac-451c-c9d5-f4090eb358ce"
      },
      "outputs": [
        {
          "output_type": "stream",
          "name": "stdout",
          "text": [
            "Status: Optimal\n",
            "Factory_CityA = 1.0\n",
            "Factory_CityB = 1.0\n",
            "Warehouse_CityA = 0.0\n",
            "Warehouse_CityB = 0.0\n",
            "Objective value = 14.0\n"
          ]
        }
      ],
      "source": [
        "# Solve the problem\n",
        "print_solution(prob)"
      ]
    },
    {
      "cell_type": "markdown",
      "metadata": {
        "id": "_pjglLm-c6Cg"
      },
      "source": [
        "## Binary Problems\n",
        "\n",
        "Binary integer programming is used for \"yes/no\" decision problems such as:\n",
        "- Which route to choose\n",
        "- Which truck to use\n",
        "- Whether to make an investment\n",
        "\n",
        "We can also model more complex logical conditions using binary variables."
      ]
    },
    {
      "cell_type": "markdown",
      "metadata": {
        "id": "zvPWapdpc6Cg"
      },
      "source": [
        "## Example 2: Modeling Logical Constraints\n",
        "\n",
        "Sometimes we need to model that ONE of two constraints must be satisfied, but not necessarily both.\n",
        "\n",
        "For example, maximize x + y where 0 ≤ x ≤ 10, 0 ≤ y ≤ 10, and EITHER (x + y ≤ 3) OR (3y + x ≤ 3).\n",
        "\n",
        "We can use a binary variable z to implement this logical OR:"
      ]
    },
    {
      "cell_type": "code",
      "execution_count": 11,
      "metadata": {
        "colab": {
          "base_uri": "https://localhost:8080/"
        },
        "id": "s8pnsMrXc6Cg",
        "outputId": "15698817-8688-4680-e971-312e81b7d287"
      },
      "outputs": [
        {
          "output_type": "stream",
          "name": "stdout",
          "text": [
            "Status: Optimal\n",
            "ignore_first_constraint = 1.0\n",
            "x = 4.3333333\n",
            "y = 10.0\n",
            "Objective value = 14.3333333\n",
            "Alternative_Constraints_Problem:\n",
            "MAXIMIZE\n",
            "1*x + 1*y + 0\n",
            "SUBJECT TO\n",
            "first_constraint: - 10000 ignore_first_constraint + x + y <= 3\n",
            "\n",
            "second_constraint: 10000 ignore_first_constraint + 3 x - y <= 10003\n",
            "\n",
            "VARIABLES\n",
            "0 <= ignore_first_constraint <= 1 Integer\n",
            "x <= 10 Continuous\n",
            "y <= 10 Continuous\n",
            "\n"
          ]
        }
      ],
      "source": [
        "prob2 = LpProblem(\"Alternative_Constraints_Problem\", LpMaximize)\n",
        "\n",
        "# Continuous variables\n",
        "x = LpVariable(\"x\", 0, 10, cat=LpContinuous)\n",
        "y = LpVariable(\"y\", 0, 10, cat=LpContinuous)\n",
        "\n",
        "# Binary variable to implement logical OR\n",
        "z = LpVariable(\"ignore_first_constraint\", cat=LpBinary)\n",
        "\n",
        "# Objective function\n",
        "prob2 += x + y, \"Simple_Sum\"\n",
        "\n",
        "# If z=1, first constraint is relaxed (ignored)\n",
        "# If z=0, second constraint is relaxed (ignored)\n",
        "M = 10000  # A very large number\n",
        "prob2 += x + y <= 3 + M*z, \"first_constraint\"\n",
        "prob2 += 3*x - y <= 3 + M*(1-z), \"second_constraint\"\n",
        "\n",
        "# Solve and display results\n",
        "print_solution(prob2)\n",
        "print(prob2)"
      ]
    },
    {
      "cell_type": "markdown",
      "metadata": {
        "id": "cehvlP6_c6Cg"
      },
      "source": [
        "## Example 3: Scheduling Problem\n",
        "\n",
        "Let's consider a scheduling problem where we need to assign employees to workdays.\n",
        "\n",
        "### Problem description:\n",
        "- We have three employees: Anna, Kate, and Peter\n",
        "- Each employee can work up to 3 days per week\n",
        "- Daily rates are: Anna ($150), Kate ($160), Peter ($140)\n",
        "- Anna can't work on Monday, Peter can't work on Thursday and Friday\n",
        "- On Tuesday we need 2 employees, on other days we need 1 employee\n",
        "- Goal: minimize the total cost\n",
        "\n",
        "This is a perfect application for integer programming with binary variables."
      ]
    },
    {
      "cell_type": "code",
      "execution_count": 12,
      "metadata": {
        "id": "Bd4EgDWHc6Cg"
      },
      "outputs": [],
      "source": [
        "prob3 = LpProblem(\"Scheduling_Problem\", LpMinimize)\n",
        "\n",
        "# Define data\n",
        "days = [\"mon\", \"tue\", \"wed\", \"thu\", \"fri\"]\n",
        "employees = [\"Anna\", \"Kate\", \"Peter\"]\n",
        "costs = [150, 160, 140]  # daily rates\n",
        "\n",
        "# Create binary decision variables for each employee on each day\n",
        "schedule = LpVariable.dicts(\"Schedule\", (employees, days), cat=\"Binary\")"
      ]
    },
    {
      "cell_type": "code",
      "execution_count": 13,
      "metadata": {
        "id": "fXTknENec6Cg"
      },
      "outputs": [],
      "source": [
        "# Objective function: minimize total cost\n",
        "prob3 += lpSum([costs[i] * lpSum([schedule[employee][day] for day in days])\n",
        "                for i, employee in enumerate(employees)])"
      ]
    },
    {
      "cell_type": "code",
      "execution_count": 14,
      "metadata": {
        "id": "StzGjManc6Cg"
      },
      "outputs": [],
      "source": [
        "# Constraint: required number of employees each day\n",
        "required_employees = [1, 2, 1, 1, 1]  # mon, tue, wed, thu, fri\n",
        "for day, required in zip(days, required_employees):\n",
        "    prob3 += lpSum([schedule[employee][day] for employee in employees]) == required\n",
        "\n",
        "# Constraint: employee availability\n",
        "prob3 += schedule[\"Anna\"][\"mon\"] == 0  # Anna can't work Monday\n",
        "prob3 += schedule[\"Peter\"][\"thu\"] == 0  # Peter can't work Thursday\n",
        "prob3 += schedule[\"Peter\"][\"fri\"] == 0  # Peter can't work Friday\n",
        "\n",
        "# Constraint: maximum workdays per employee\n",
        "for employee in employees:\n",
        "    prob3 += lpSum([schedule[employee][day] for day in days]) <= 3"
      ]
    },
    {
      "cell_type": "code",
      "execution_count": 15,
      "metadata": {
        "colab": {
          "base_uri": "https://localhost:8080/"
        },
        "id": "8M1haGI_c6Ch",
        "outputId": "762af731-c616-4322-bf46-60070a41880a"
      },
      "outputs": [
        {
          "output_type": "stream",
          "name": "stdout",
          "text": [
            "Status: Optimal\n",
            "Schedule_Anna_fri = 1.0\n",
            "Schedule_Anna_mon = 0.0\n",
            "Schedule_Anna_thu = 1.0\n",
            "Schedule_Anna_tue = 1.0\n",
            "Schedule_Anna_wed = 0.0\n",
            "Schedule_Kate_fri = 0.0\n",
            "Schedule_Kate_mon = 0.0\n",
            "Schedule_Kate_thu = 0.0\n",
            "Schedule_Kate_tue = 0.0\n",
            "Schedule_Kate_wed = 0.0\n",
            "Schedule_Peter_fri = 0.0\n",
            "Schedule_Peter_mon = 1.0\n",
            "Schedule_Peter_thu = 0.0\n",
            "Schedule_Peter_tue = 1.0\n",
            "Schedule_Peter_wed = 1.0\n",
            "Objective value = 870.0\n"
          ]
        }
      ],
      "source": [
        "# Solve and print the solution\n",
        "print_solution(prob3)"
      ]
    },
    {
      "cell_type": "markdown",
      "metadata": {
        "id": "vrribY0Qc6Ch"
      },
      "source": [
        "# Excercise 1\n",
        "\n",
        "1) Extend the example to four Emploeeys: there is also Mark, who can work on any day and his rate is the lowest: $100 per day but he can work up to 4 days per week.\n",
        "\n",
        "2) Add a constraint(s) that Mark can work only if Anna is not there (use logical constraint)\n",
        "\n",
        "3) Bonus:  Make the program interactive: add a checkbox to show which employees are available (and which are not)\n"
      ]
    },
    {
      "cell_type": "markdown",
      "metadata": {
        "id": "ZO4x7hh_c6Ch"
      },
      "source": [
        "## Extension: Hourly Scheduling\n",
        "\n",
        "We can extend the scheduling problem to assign specific hours rather than just days.\n",
        "\n",
        "### Revised problem:\n",
        "- Each employee can work up to 24 hours per week\n",
        "- Hourly rates: Anna ($15), Kate ($16), Peter ($14)\n",
        "- Tuesday requires 12 hours of work, other days require 8 hours\n",
        "- Other constraints remain the same\n",
        "\n",
        "This requires integer (not just binary) variables to represent hours worked."
      ]
    },
    {
      "cell_type": "code",
      "execution_count": 16,
      "metadata": {
        "colab": {
          "base_uri": "https://localhost:8080/"
        },
        "id": "6bFGgAo2c6Ch",
        "outputId": "c6f5343b-3373-41e2-e200-d86e762a3bba"
      },
      "outputs": [
        {
          "output_type": "stream",
          "name": "stdout",
          "text": [
            "Status: Optimal\n",
            "Hours_Anna_fri = 8.0\n",
            "Hours_Anna_mon = 0.0\n",
            "Hours_Anna_thu = 8.0\n",
            "Hours_Anna_tue = 4.0\n",
            "Hours_Anna_wed = 0.0\n",
            "Hours_Kate_fri = 0.0\n",
            "Hours_Kate_mon = 0.0\n",
            "Hours_Kate_thu = 0.0\n",
            "Hours_Kate_tue = 0.0\n",
            "Hours_Kate_wed = 0.0\n",
            "Hours_Peter_fri = 0.0\n",
            "Hours_Peter_mon = 8.0\n",
            "Hours_Peter_thu = 0.0\n",
            "Hours_Peter_tue = 8.0\n",
            "Hours_Peter_wed = 8.0\n",
            "Objective value = 636.0\n"
          ]
        }
      ],
      "source": [
        "prob4 = LpProblem(\"Hourly_Scheduling_Problem\", LpMinimize)\n",
        "\n",
        "# Use integer variables for hours (0 to 24)\n",
        "hours = LpVariable.dicts(\"Hours\", (employees, days), lowBound=0, upBound=24, cat=LpInteger)\n",
        "\n",
        "# Objective: minimize total cost\n",
        "hourly_rates = [15, 16, 14]  # hourly rates\n",
        "prob4 += lpSum([hourly_rates[i] * lpSum([hours[employee][day] for day in days])\n",
        "               for i, employee in enumerate(employees)])\n",
        "\n",
        "# Hours required each day\n",
        "hours_required = [8, 12, 8, 8, 8]  # mon, tue, wed, thu, fri\n",
        "for day, required in zip(days, hours_required):\n",
        "    prob4 += lpSum([hours[employee][day] for employee in employees]) == required\n",
        "\n",
        "# Availability constraints\n",
        "prob4 += hours[\"Anna\"][\"mon\"] == 0  # Anna can't work Monday\n",
        "prob4 += hours[\"Peter\"][\"thu\"] == 0  # Peter can't work Thursday\n",
        "prob4 += hours[\"Peter\"][\"fri\"] == 0  # Peter can't work Friday\n",
        "\n",
        "# Maximum hours per week\n",
        "for employee in employees:\n",
        "    prob4 += lpSum([hours[employee][day] for day in days]) <= 24\n",
        "\n",
        "# Solve and print the solution\n",
        "print_solution(prob4)"
      ]
    },
    {
      "cell_type": "code",
      "execution_count": 17,
      "metadata": {
        "id": "dsmqNYIfc6Ch"
      },
      "outputs": [],
      "source": [
        "# Excercise 2\n",
        "\n",
        "# 1) Extend the example to four Emploeeys: there is also Mark, who can work on any day and his rate is the lowest: $100 per day but he can work up to 4 days per week.\n",
        "\n",
        "# 2) Add a constraint(s) that Mark can work 5h"
      ]
    },
    {
      "cell_type": "code",
      "source": [
        "# Employees and days\n",
        "employees = [\"Anna\", \"Kate\", \"Peter\", \"Mark\"]\n",
        "days = [\"mon\", \"tue\", \"wed\", \"thu\", \"fri\"]\n",
        "\n",
        "# Hourly rates\n",
        "hourly_rates = {\n",
        "    \"Anna\": 15,\n",
        "    \"Kate\": 16,\n",
        "    \"Peter\": 14,\n",
        "    \"Mark\": 100 / 8  # Mark's daily rate is $100, calculated based on an 8-hour day\n",
        "}\n",
        "\n",
        "# Daily hour requirements\n",
        "hours_required = {\"mon\": 8, \"tue\": 12, \"wed\": 8, \"thu\": 8, \"fri\": 8}\n",
        "\n",
        "# Maximum weekly hours\n",
        "max_hours_per_week = 24\n",
        "max_days_per_week = 4  # Mark can work up to 4 days per week\n",
        "max_hours_per_day = 5  # Mark can work up to 5 hours per day\n",
        "\n",
        "# Create the model\n",
        "prob = LpProblem(\"Hourly_Scheduling_Problem\", LpMinimize)\n",
        "\n",
        "# Variables representing daily working hours for employees\n",
        "hours = LpVariable.dicts(\"Hours\", (employees, days), lowBound=0, upBound=24, cat=LpInteger)\n",
        "\n",
        "# Binary variables to indicate whether Mark and Anna are working (0: Not working, 1: Working)\n",
        "mark_working = LpVariable.dicts(\"MarkWorks\", days, cat=LpBinary)\n",
        "anna_working = LpVariable.dicts(\"AnnaWorks\", days, cat=LpBinary)\n",
        "\n",
        "# **1. Objective Function (Minimize total cost)**\n",
        "prob += lpSum([hourly_rates[emp] * hours[emp][day] for emp in employees for day in days])\n",
        "\n",
        "# **2. Meet daily hour requirements**\n",
        "for day in days:\n",
        "    prob += lpSum(hours[emp][day] for emp in employees) == hours_required[day]\n",
        "\n",
        "# **3. Employee constraints**\n",
        "prob += hours[\"Anna\"][\"mon\"] == 0  # Anna cannot work on Monday\n",
        "prob += hours[\"Peter\"][\"thu\"] == 0  # Peter cannot work on Thursday\n",
        "prob += hours[\"Peter\"][\"fri\"] == 0  # Peter cannot work on Friday\n",
        "\n",
        "# **4. Limit total weekly hours for employees**\n",
        "for emp in employees:\n",
        "    prob += lpSum(hours[emp][day] for day in days) <= max_hours_per_week\n",
        "\n",
        "# **5. Limit Mark's working days (Maximum 4 days per week)**\n",
        "prob += lpSum(mark_working[day] for day in days) <= max_days_per_week\n",
        "\n",
        "# **6. Link Mark and Anna's working status to hours**\n",
        "for day in days:\n",
        "    prob += hours[\"Mark\"][day] <= max_hours_per_day * mark_working[day]  # Mark can work up to 5 hours if working\n",
        "    prob += hours[\"Anna\"][day] >= 1 * anna_working[day]  # Anna must work at least 1 hour if working\n",
        "    prob += hours[\"Anna\"][day] <= 24 * anna_working[day]  # If Anna is not working, her hours should be 0\n",
        "\n",
        "# **7. Mark and Anna cannot work on the same day**\n",
        "for day in days:\n",
        "    prob += mark_working[day] + anna_working[day] <= 1  # They cannot work on the same day\n",
        "\n",
        "# Solve the model\n",
        "prob.solve()\n",
        "\n",
        "# **Print the results**\n",
        "for emp in employees:\n",
        "    print(f\"{emp}:\")\n",
        "    for day in days:\n",
        "        print(f\"  {day}: {hours[emp][day].varValue} hour\")\n",
        "    print(f\"  Total: {sum(hours[emp][day].varValue for day in days)} hour\\n\")\n",
        "\n",
        "# Print total cost\n",
        "print(f\"Total Cost: ${value(prob.objective)}\")\n"
      ],
      "metadata": {
        "colab": {
          "base_uri": "https://localhost:8080/"
        },
        "id": "M-R_jkVSENaw",
        "outputId": "68755510-5f67-4caa-e8bd-a733a66e9b1e"
      },
      "execution_count": 18,
      "outputs": [
        {
          "output_type": "stream",
          "name": "stdout",
          "text": [
            "Anna:\n",
            "  mon: 0.0 hour\n",
            "  tue: 0.0 hour\n",
            "  wed: 0.0 hour\n",
            "  thu: 0.0 hour\n",
            "  fri: 0.0 hour\n",
            "  Total: 0.0 hour\n",
            "\n",
            "Kate:\n",
            "  mon: 0.0 hour\n",
            "  tue: 0.0 hour\n",
            "  wed: 0.0 hour\n",
            "  thu: 3.0 hour\n",
            "  fri: 3.0 hour\n",
            "  Total: 6.0 hour\n",
            "\n",
            "Peter:\n",
            "  mon: 8.0 hour\n",
            "  tue: 7.0 hour\n",
            "  wed: 3.0 hour\n",
            "  thu: 0.0 hour\n",
            "  fri: 0.0 hour\n",
            "  Total: 18.0 hour\n",
            "\n",
            "Mark:\n",
            "  mon: 0.0 hour\n",
            "  tue: 5.0 hour\n",
            "  wed: 5.0 hour\n",
            "  thu: 5.0 hour\n",
            "  fri: 5.0 hour\n",
            "  Total: 20.0 hour\n",
            "\n",
            "Total Cost: $598.0\n"
          ]
        }
      ]
    },
    {
      "cell_type": "markdown",
      "metadata": {
        "id": "YSLEFsD3c6Ch"
      },
      "source": [
        "## Conclusion\n",
        "\n",
        "Integer programming is a powerful tool for solving optimization problems with discrete decisions. It's particularly useful in scheduling, where we often need to assign resources (like employees) to specific time slots subject to various constraints.\n",
        "\n",
        "The key benefits include:\n",
        "1. Ability to model logical conditions (AND, OR, IF-THEN)\n",
        "2. Natural representation of indivisible resources\n",
        "3. Optimal solutions for complex constraint satisfaction problems\n",
        "\n",
        "However, integer programming problems can be computationally intensive as the number of variables increases."
      ]
    }
  ],
  "metadata": {
    "kernelspec": {
      "display_name": "base",
      "language": "python",
      "name": "python3"
    },
    "language_info": {
      "codemirror_mode": {
        "name": "ipython",
        "version": 3
      },
      "file_extension": ".py",
      "mimetype": "text/x-python",
      "name": "python",
      "nbconvert_exporter": "python",
      "pygments_lexer": "ipython3",
      "version": "3.7.3"
    },
    "colab": {
      "provenance": []
    }
  },
  "nbformat": 4,
  "nbformat_minor": 0
}